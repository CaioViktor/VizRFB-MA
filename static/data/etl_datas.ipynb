{
 "metadata": {
  "language_info": {
   "codemirror_mode": {
    "name": "ipython",
    "version": 3
   },
   "file_extension": ".py",
   "mimetype": "text/x-python",
   "name": "python",
   "nbconvert_exporter": "python",
   "pygments_lexer": "ipython3",
   "version": "3.8.5"
  },
  "orig_nbformat": 4,
  "kernelspec": {
   "name": "python3",
   "display_name": "Python 3.8.5 64-bit ('base': conda)"
  },
  "interpreter": {
   "hash": "d83547533f9050dd6fe51668b0feb7653dace4d0f960859b6bdd6b3de39e452f"
  }
 },
 "nbformat": 4,
 "nbformat_minor": 2,
 "cells": [
  {
   "cell_type": "code",
   "execution_count": 1,
   "metadata": {},
   "outputs": [],
   "source": [
    "import pandas as pd"
   ]
  },
  {
   "cell_type": "code",
   "execution_count": 25,
   "metadata": {},
   "outputs": [
    {
     "output_type": "execute_result",
     "data": {
      "text/plain": [
       "      DATA_INICIO_ATIV  QTD\n",
       "0             20/08/03    1\n",
       "1             17/08/18    1\n",
       "2             10/06/29    1\n",
       "3             21/10/33    1\n",
       "4             29/03/38    1\n",
       "...                ...  ...\n",
       "16119         16/11/20  157\n",
       "16120         17/11/20  190\n",
       "16121         18/11/20  221\n",
       "16122         19/11/20  193\n",
       "16123         20/11/20  160\n",
       "\n",
       "[16124 rows x 2 columns]"
      ],
      "text/html": "<div>\n<style scoped>\n    .dataframe tbody tr th:only-of-type {\n        vertical-align: middle;\n    }\n\n    .dataframe tbody tr th {\n        vertical-align: top;\n    }\n\n    .dataframe thead th {\n        text-align: right;\n    }\n</style>\n<table border=\"1\" class=\"dataframe\">\n  <thead>\n    <tr style=\"text-align: right;\">\n      <th></th>\n      <th>DATA_INICIO_ATIV</th>\n      <th>QTD</th>\n    </tr>\n  </thead>\n  <tbody>\n    <tr>\n      <th>0</th>\n      <td>20/08/03</td>\n      <td>1</td>\n    </tr>\n    <tr>\n      <th>1</th>\n      <td>17/08/18</td>\n      <td>1</td>\n    </tr>\n    <tr>\n      <th>2</th>\n      <td>10/06/29</td>\n      <td>1</td>\n    </tr>\n    <tr>\n      <th>3</th>\n      <td>21/10/33</td>\n      <td>1</td>\n    </tr>\n    <tr>\n      <th>4</th>\n      <td>29/03/38</td>\n      <td>1</td>\n    </tr>\n    <tr>\n      <th>...</th>\n      <td>...</td>\n      <td>...</td>\n    </tr>\n    <tr>\n      <th>16119</th>\n      <td>16/11/20</td>\n      <td>157</td>\n    </tr>\n    <tr>\n      <th>16120</th>\n      <td>17/11/20</td>\n      <td>190</td>\n    </tr>\n    <tr>\n      <th>16121</th>\n      <td>18/11/20</td>\n      <td>221</td>\n    </tr>\n    <tr>\n      <th>16122</th>\n      <td>19/11/20</td>\n      <td>193</td>\n    </tr>\n    <tr>\n      <th>16123</th>\n      <td>20/11/20</td>\n      <td>160</td>\n    </tr>\n  </tbody>\n</table>\n<p>16124 rows × 2 columns</p>\n</div>"
     },
     "metadata": {},
     "execution_count": 25
    }
   ],
   "source": [
    "df = pd.read_csv(\"inicio_estabs.csv\")\n",
    "df"
   ]
  },
  {
   "cell_type": "code",
   "execution_count": 15,
   "metadata": {},
   "outputs": [],
   "source": [
    "anos2000 = df.loc[9051:,:]\n",
    "anos1000 = df.loc[0:9050,:]"
   ]
  },
  {
   "cell_type": "code",
   "execution_count": 20,
   "metadata": {},
   "outputs": [
    {
     "output_type": "stream",
     "name": "stderr",
     "text": [
      "/home/caio/anaconda3/lib/python3.8/site-packages/pandas/core/indexing.py:1765: SettingWithCopyWarning: \nA value is trying to be set on a copy of a slice from a DataFrame.\nTry using .loc[row_indexer,col_indexer] = value instead\n\nSee the caveats in the documentation: https://pandas.pydata.org/pandas-docs/stable/user_guide/indexing.html#returning-a-view-versus-a-copy\n  isetter(loc, value)\n"
     ]
    }
   ],
   "source": [
    "for i,row in anos1000.iterrows():\n",
    "    data = row['DATA_INICIO_ATIV']\n",
    "    data_split = data.split(\"/\")\n",
    "    nova_data = f\"19{data_split[2]}-{data_split[1]}-{data_split[0]}\"\n",
    "    anos1000.loc[i,'data'] = nova_data"
   ]
  },
  {
   "cell_type": "code",
   "execution_count": 21,
   "metadata": {},
   "outputs": [
    {
     "output_type": "execute_result",
     "data": {
      "text/plain": [
       "     DATA_INICIO_ATIV  QTD        data\n",
       "0            20/08/03    1  1903-08-20\n",
       "1            17/08/18    1  1918-08-17\n",
       "2            10/06/29    1  1929-06-10\n",
       "3            21/10/33    1  1933-10-21\n",
       "4            29/03/38    1  1938-03-29\n",
       "...               ...  ...         ...\n",
       "9046         27/12/99   22  1999-12-27\n",
       "9047         28/12/99   19  1999-12-28\n",
       "9048         29/12/99   18  1999-12-29\n",
       "9049         30/12/99   28  1999-12-30\n",
       "9050         31/12/99    1  1999-12-31\n",
       "\n",
       "[9051 rows x 3 columns]"
      ],
      "text/html": "<div>\n<style scoped>\n    .dataframe tbody tr th:only-of-type {\n        vertical-align: middle;\n    }\n\n    .dataframe tbody tr th {\n        vertical-align: top;\n    }\n\n    .dataframe thead th {\n        text-align: right;\n    }\n</style>\n<table border=\"1\" class=\"dataframe\">\n  <thead>\n    <tr style=\"text-align: right;\">\n      <th></th>\n      <th>DATA_INICIO_ATIV</th>\n      <th>QTD</th>\n      <th>data</th>\n    </tr>\n  </thead>\n  <tbody>\n    <tr>\n      <th>0</th>\n      <td>20/08/03</td>\n      <td>1</td>\n      <td>1903-08-20</td>\n    </tr>\n    <tr>\n      <th>1</th>\n      <td>17/08/18</td>\n      <td>1</td>\n      <td>1918-08-17</td>\n    </tr>\n    <tr>\n      <th>2</th>\n      <td>10/06/29</td>\n      <td>1</td>\n      <td>1929-06-10</td>\n    </tr>\n    <tr>\n      <th>3</th>\n      <td>21/10/33</td>\n      <td>1</td>\n      <td>1933-10-21</td>\n    </tr>\n    <tr>\n      <th>4</th>\n      <td>29/03/38</td>\n      <td>1</td>\n      <td>1938-03-29</td>\n    </tr>\n    <tr>\n      <th>...</th>\n      <td>...</td>\n      <td>...</td>\n      <td>...</td>\n    </tr>\n    <tr>\n      <th>9046</th>\n      <td>27/12/99</td>\n      <td>22</td>\n      <td>1999-12-27</td>\n    </tr>\n    <tr>\n      <th>9047</th>\n      <td>28/12/99</td>\n      <td>19</td>\n      <td>1999-12-28</td>\n    </tr>\n    <tr>\n      <th>9048</th>\n      <td>29/12/99</td>\n      <td>18</td>\n      <td>1999-12-29</td>\n    </tr>\n    <tr>\n      <th>9049</th>\n      <td>30/12/99</td>\n      <td>28</td>\n      <td>1999-12-30</td>\n    </tr>\n    <tr>\n      <th>9050</th>\n      <td>31/12/99</td>\n      <td>1</td>\n      <td>1999-12-31</td>\n    </tr>\n  </tbody>\n</table>\n<p>9051 rows × 3 columns</p>\n</div>"
     },
     "metadata": {},
     "execution_count": 21
    }
   ],
   "source": [
    "anos1000"
   ]
  },
  {
   "cell_type": "code",
   "execution_count": 22,
   "metadata": {},
   "outputs": [
    {
     "output_type": "stream",
     "name": "stderr",
     "text": [
      "/home/caio/anaconda3/lib/python3.8/site-packages/pandas/core/indexing.py:1596: SettingWithCopyWarning: \nA value is trying to be set on a copy of a slice from a DataFrame.\nTry using .loc[row_indexer,col_indexer] = value instead\n\nSee the caveats in the documentation: https://pandas.pydata.org/pandas-docs/stable/user_guide/indexing.html#returning-a-view-versus-a-copy\n  self.obj[key] = _infer_fill_value(value)\n/home/caio/anaconda3/lib/python3.8/site-packages/pandas/core/indexing.py:1765: SettingWithCopyWarning: \nA value is trying to be set on a copy of a slice from a DataFrame.\nTry using .loc[row_indexer,col_indexer] = value instead\n\nSee the caveats in the documentation: https://pandas.pydata.org/pandas-docs/stable/user_guide/indexing.html#returning-a-view-versus-a-copy\n  isetter(loc, value)\n"
     ]
    }
   ],
   "source": [
    "for i,row in anos2000.iterrows():\n",
    "    data = row['DATA_INICIO_ATIV']\n",
    "    data_split = data.split(\"/\")\n",
    "    nova_data = f\"20{data_split[2]}-{data_split[1]}-{data_split[0]}\"\n",
    "    anos2000.loc[i,'data'] = nova_data"
   ]
  },
  {
   "cell_type": "code",
   "execution_count": 23,
   "metadata": {},
   "outputs": [
    {
     "output_type": "execute_result",
     "data": {
      "text/plain": [
       "      DATA_INICIO_ATIV  QTD        data\n",
       "9051          01/01/00    2  2000-01-01\n",
       "9052          02/01/00    1  2000-01-02\n",
       "9053          03/01/00   18  2000-01-03\n",
       "9054          04/01/00   14  2000-01-04\n",
       "9055          05/01/00   21  2000-01-05\n",
       "...                ...  ...         ...\n",
       "16119         16/11/20  157  2020-11-16\n",
       "16120         17/11/20  190  2020-11-17\n",
       "16121         18/11/20  221  2020-11-18\n",
       "16122         19/11/20  193  2020-11-19\n",
       "16123         20/11/20  160  2020-11-20\n",
       "\n",
       "[7073 rows x 3 columns]"
      ],
      "text/html": "<div>\n<style scoped>\n    .dataframe tbody tr th:only-of-type {\n        vertical-align: middle;\n    }\n\n    .dataframe tbody tr th {\n        vertical-align: top;\n    }\n\n    .dataframe thead th {\n        text-align: right;\n    }\n</style>\n<table border=\"1\" class=\"dataframe\">\n  <thead>\n    <tr style=\"text-align: right;\">\n      <th></th>\n      <th>DATA_INICIO_ATIV</th>\n      <th>QTD</th>\n      <th>data</th>\n    </tr>\n  </thead>\n  <tbody>\n    <tr>\n      <th>9051</th>\n      <td>01/01/00</td>\n      <td>2</td>\n      <td>2000-01-01</td>\n    </tr>\n    <tr>\n      <th>9052</th>\n      <td>02/01/00</td>\n      <td>1</td>\n      <td>2000-01-02</td>\n    </tr>\n    <tr>\n      <th>9053</th>\n      <td>03/01/00</td>\n      <td>18</td>\n      <td>2000-01-03</td>\n    </tr>\n    <tr>\n      <th>9054</th>\n      <td>04/01/00</td>\n      <td>14</td>\n      <td>2000-01-04</td>\n    </tr>\n    <tr>\n      <th>9055</th>\n      <td>05/01/00</td>\n      <td>21</td>\n      <td>2000-01-05</td>\n    </tr>\n    <tr>\n      <th>...</th>\n      <td>...</td>\n      <td>...</td>\n      <td>...</td>\n    </tr>\n    <tr>\n      <th>16119</th>\n      <td>16/11/20</td>\n      <td>157</td>\n      <td>2020-11-16</td>\n    </tr>\n    <tr>\n      <th>16120</th>\n      <td>17/11/20</td>\n      <td>190</td>\n      <td>2020-11-17</td>\n    </tr>\n    <tr>\n      <th>16121</th>\n      <td>18/11/20</td>\n      <td>221</td>\n      <td>2020-11-18</td>\n    </tr>\n    <tr>\n      <th>16122</th>\n      <td>19/11/20</td>\n      <td>193</td>\n      <td>2020-11-19</td>\n    </tr>\n    <tr>\n      <th>16123</th>\n      <td>20/11/20</td>\n      <td>160</td>\n      <td>2020-11-20</td>\n    </tr>\n  </tbody>\n</table>\n<p>7073 rows × 3 columns</p>\n</div>"
     },
     "metadata": {},
     "execution_count": 23
    }
   ],
   "source": [
    "anos2000"
   ]
  },
  {
   "cell_type": "code",
   "execution_count": 26,
   "metadata": {},
   "outputs": [
    {
     "output_type": "execute_result",
     "data": {
      "text/plain": [
       "       QTD        data\n",
       "0        1  1903-08-20\n",
       "1        1  1918-08-17\n",
       "2        1  1929-06-10\n",
       "3        1  1933-10-21\n",
       "4        1  1938-03-29\n",
       "...    ...         ...\n",
       "16119  157  2020-11-16\n",
       "16120  190  2020-11-17\n",
       "16121  221  2020-11-18\n",
       "16122  193  2020-11-19\n",
       "16123  160  2020-11-20\n",
       "\n",
       "[16124 rows x 2 columns]"
      ],
      "text/html": "<div>\n<style scoped>\n    .dataframe tbody tr th:only-of-type {\n        vertical-align: middle;\n    }\n\n    .dataframe tbody tr th {\n        vertical-align: top;\n    }\n\n    .dataframe thead th {\n        text-align: right;\n    }\n</style>\n<table border=\"1\" class=\"dataframe\">\n  <thead>\n    <tr style=\"text-align: right;\">\n      <th></th>\n      <th>QTD</th>\n      <th>data</th>\n    </tr>\n  </thead>\n  <tbody>\n    <tr>\n      <th>0</th>\n      <td>1</td>\n      <td>1903-08-20</td>\n    </tr>\n    <tr>\n      <th>1</th>\n      <td>1</td>\n      <td>1918-08-17</td>\n    </tr>\n    <tr>\n      <th>2</th>\n      <td>1</td>\n      <td>1929-06-10</td>\n    </tr>\n    <tr>\n      <th>3</th>\n      <td>1</td>\n      <td>1933-10-21</td>\n    </tr>\n    <tr>\n      <th>4</th>\n      <td>1</td>\n      <td>1938-03-29</td>\n    </tr>\n    <tr>\n      <th>...</th>\n      <td>...</td>\n      <td>...</td>\n    </tr>\n    <tr>\n      <th>16119</th>\n      <td>157</td>\n      <td>2020-11-16</td>\n    </tr>\n    <tr>\n      <th>16120</th>\n      <td>190</td>\n      <td>2020-11-17</td>\n    </tr>\n    <tr>\n      <th>16121</th>\n      <td>221</td>\n      <td>2020-11-18</td>\n    </tr>\n    <tr>\n      <th>16122</th>\n      <td>193</td>\n      <td>2020-11-19</td>\n    </tr>\n    <tr>\n      <th>16123</th>\n      <td>160</td>\n      <td>2020-11-20</td>\n    </tr>\n  </tbody>\n</table>\n<p>16124 rows × 2 columns</p>\n</div>"
     },
     "metadata": {},
     "execution_count": 26
    }
   ],
   "source": [
    "new_df = anos1000.append(anos2000)\n",
    "new_df = new_df.drop(\"DATA_INICIO_ATIV\",axis=1)\n",
    "new_df"
   ]
  },
  {
   "cell_type": "code",
   "execution_count": 48,
   "metadata": {},
   "outputs": [],
   "source": [
    "new_df.to_csv(\"inicio_estabs_formatado.csv\",index=False)"
   ]
  },
  {
   "cell_type": "code",
   "execution_count": 49,
   "metadata": {},
   "outputs": [
    {
     "output_type": "execute_result",
     "data": {
      "text/plain": [
       "      DATA_SITUACAO_CADASTRAL URI_CLASSE_TIPO_SITUACAO  QTD\n",
       "0                    10/06/29                   ACTIVE    1\n",
       "1                    29/03/38                   ACTIVE    1\n",
       "2                    13/01/47                   ACTIVE    1\n",
       "3                    20/01/48                   ACTIVE    1\n",
       "4                    30/12/61                   ACTIVE    1\n",
       "...                       ...                      ...  ...\n",
       "19723                19/11/20                     DOWN   63\n",
       "19724                19/11/20                SUSPENDED    1\n",
       "19725                20/11/20                   ACTIVE  180\n",
       "19726                20/11/20                     DOWN   25\n",
       "19727                20/11/20                SUSPENDED    1\n",
       "\n",
       "[19728 rows x 3 columns]"
      ],
      "text/html": "<div>\n<style scoped>\n    .dataframe tbody tr th:only-of-type {\n        vertical-align: middle;\n    }\n\n    .dataframe tbody tr th {\n        vertical-align: top;\n    }\n\n    .dataframe thead th {\n        text-align: right;\n    }\n</style>\n<table border=\"1\" class=\"dataframe\">\n  <thead>\n    <tr style=\"text-align: right;\">\n      <th></th>\n      <th>DATA_SITUACAO_CADASTRAL</th>\n      <th>URI_CLASSE_TIPO_SITUACAO</th>\n      <th>QTD</th>\n    </tr>\n  </thead>\n  <tbody>\n    <tr>\n      <th>0</th>\n      <td>10/06/29</td>\n      <td>ACTIVE</td>\n      <td>1</td>\n    </tr>\n    <tr>\n      <th>1</th>\n      <td>29/03/38</td>\n      <td>ACTIVE</td>\n      <td>1</td>\n    </tr>\n    <tr>\n      <th>2</th>\n      <td>13/01/47</td>\n      <td>ACTIVE</td>\n      <td>1</td>\n    </tr>\n    <tr>\n      <th>3</th>\n      <td>20/01/48</td>\n      <td>ACTIVE</td>\n      <td>1</td>\n    </tr>\n    <tr>\n      <th>4</th>\n      <td>30/12/61</td>\n      <td>ACTIVE</td>\n      <td>1</td>\n    </tr>\n    <tr>\n      <th>...</th>\n      <td>...</td>\n      <td>...</td>\n      <td>...</td>\n    </tr>\n    <tr>\n      <th>19723</th>\n      <td>19/11/20</td>\n      <td>DOWN</td>\n      <td>63</td>\n    </tr>\n    <tr>\n      <th>19724</th>\n      <td>19/11/20</td>\n      <td>SUSPENDED</td>\n      <td>1</td>\n    </tr>\n    <tr>\n      <th>19725</th>\n      <td>20/11/20</td>\n      <td>ACTIVE</td>\n      <td>180</td>\n    </tr>\n    <tr>\n      <th>19726</th>\n      <td>20/11/20</td>\n      <td>DOWN</td>\n      <td>25</td>\n    </tr>\n    <tr>\n      <th>19727</th>\n      <td>20/11/20</td>\n      <td>SUSPENDED</td>\n      <td>1</td>\n    </tr>\n  </tbody>\n</table>\n<p>19728 rows × 3 columns</p>\n</div>"
     },
     "metadata": {},
     "execution_count": 49
    }
   ],
   "source": [
    "df = pd.read_csv(\"situacao.csv\")\n",
    "df"
   ]
  },
  {
   "cell_type": "code",
   "execution_count": 50,
   "metadata": {},
   "outputs": [
    {
     "output_type": "execute_result",
     "data": {
      "text/plain": [
       "array(['ACTIVE', 'DOWN', nan, 'SUSPENDED', 'UNFIT'], dtype=object)"
      ]
     },
     "metadata": {},
     "execution_count": 50
    }
   ],
   "source": [
    "df['URI_CLASSE_TIPO_SITUACAO'].unique()"
   ]
  },
  {
   "cell_type": "code",
   "execution_count": 51,
   "metadata": {},
   "outputs": [
    {
     "output_type": "execute_result",
     "data": {
      "text/plain": [
       "array(['Ativa', 'Baixada', 'Nula', 'Suspensa', 'Inápta'], dtype=object)"
      ]
     },
     "metadata": {},
     "execution_count": 51
    }
   ],
   "source": [
    "df = df.fillna('Nula')\n",
    "df = df.replace({'ACTIVE':'Ativa', 'DOWN':'Baixada', 'SUSPENDED':'Suspensa', 'UNFIT':'Inápta'})\n",
    "df['URI_CLASSE_TIPO_SITUACAO'].unique()"
   ]
  },
  {
   "cell_type": "code",
   "execution_count": 52,
   "metadata": {},
   "outputs": [
    {
     "output_type": "stream",
     "name": "stderr",
     "text": [
      "/home/caio/anaconda3/lib/python3.8/site-packages/pandas/core/indexing.py:1596: SettingWithCopyWarning: \n",
      "A value is trying to be set on a copy of a slice from a DataFrame.\n",
      "Try using .loc[row_indexer,col_indexer] = value instead\n",
      "\n",
      "See the caveats in the documentation: https://pandas.pydata.org/pandas-docs/stable/user_guide/indexing.html#returning-a-view-versus-a-copy\n",
      "  self.obj[key] = _infer_fill_value(value)\n",
      "/home/caio/anaconda3/lib/python3.8/site-packages/pandas/core/indexing.py:1765: SettingWithCopyWarning: \n",
      "A value is trying to be set on a copy of a slice from a DataFrame.\n",
      "Try using .loc[row_indexer,col_indexer] = value instead\n",
      "\n",
      "See the caveats in the documentation: https://pandas.pydata.org/pandas-docs/stable/user_guide/indexing.html#returning-a-view-versus-a-copy\n",
      "  isetter(loc, value)\n",
      "     DATA_SITUACAO_CADASTRAL URI_CLASSE_TIPO_SITUACAO  QTD        data\n",
      "0                   10/06/29                    Ativa    1  1929-06-10\n",
      "1                   29/03/38                    Ativa    1  1938-03-29\n",
      "2                   13/01/47                    Ativa    1  1947-01-13\n",
      "3                   20/01/48                    Ativa    1  1948-01-20\n",
      "4                   30/12/61                    Ativa    1  1961-12-30\n",
      "...                      ...                      ...  ...         ...\n",
      "6094                27/12/99                  Baixada    7  1999-12-27\n",
      "6095                28/12/99                  Baixada    6  1999-12-28\n",
      "6096                29/12/99                  Baixada    7  1999-12-29\n",
      "6097                30/12/99                  Baixada   14  1999-12-30\n",
      "6098                31/12/99                  Baixada    1  1999-12-31\n",
      "\n",
      "[6099 rows x 4 columns]\n",
      "/home/caio/anaconda3/lib/python3.8/site-packages/pandas/core/indexing.py:1596: SettingWithCopyWarning: \n",
      "A value is trying to be set on a copy of a slice from a DataFrame.\n",
      "Try using .loc[row_indexer,col_indexer] = value instead\n",
      "\n",
      "See the caveats in the documentation: https://pandas.pydata.org/pandas-docs/stable/user_guide/indexing.html#returning-a-view-versus-a-copy\n",
      "  self.obj[key] = _infer_fill_value(value)\n",
      "/home/caio/anaconda3/lib/python3.8/site-packages/pandas/core/indexing.py:1765: SettingWithCopyWarning: \n",
      "A value is trying to be set on a copy of a slice from a DataFrame.\n",
      "Try using .loc[row_indexer,col_indexer] = value instead\n",
      "\n",
      "See the caveats in the documentation: https://pandas.pydata.org/pandas-docs/stable/user_guide/indexing.html#returning-a-view-versus-a-copy\n",
      "  isetter(loc, value)\n",
      "      DATA_SITUACAO_CADASTRAL URI_CLASSE_TIPO_SITUACAO  QTD        data\n",
      "6099                 02/01/00                    Ativa    1  2000-01-02\n",
      "6100                 03/01/00                  Baixada    2  2000-01-03\n",
      "6101                 04/01/00                    Ativa    1  2000-01-04\n",
      "6102                 04/01/00                  Baixada    7  2000-01-04\n",
      "6103                 05/01/00                    Ativa    1  2000-01-05\n",
      "...                       ...                      ...  ...         ...\n",
      "19723                19/11/20                  Baixada   63  2020-11-19\n",
      "19724                19/11/20                 Suspensa    1  2020-11-19\n",
      "19725                20/11/20                    Ativa  180  2020-11-20\n",
      "19726                20/11/20                  Baixada   25  2020-11-20\n",
      "19727                20/11/20                 Suspensa    1  2020-11-20\n",
      "\n",
      "[13629 rows x 4 columns]\n",
      "      URI_CLASSE_TIPO_SITUACAO  QTD        data\n",
      "0                        Ativa    1  1929-06-10\n",
      "1                        Ativa    1  1938-03-29\n",
      "2                        Ativa    1  1947-01-13\n",
      "3                        Ativa    1  1948-01-20\n",
      "4                        Ativa    1  1961-12-30\n",
      "...                        ...  ...         ...\n",
      "19723                  Baixada   63  2020-11-19\n",
      "19724                 Suspensa    1  2020-11-19\n",
      "19725                    Ativa  180  2020-11-20\n",
      "19726                  Baixada   25  2020-11-20\n",
      "19727                 Suspensa    1  2020-11-20\n",
      "\n",
      "[19728 rows x 3 columns]\n"
     ]
    }
   ],
   "source": [
    "anos2000 = df.loc[6099:,:]\n",
    "anos1000 = df.loc[:6098,:]\n",
    "for i,row in anos1000.iterrows():\n",
    "    data = row['DATA_SITUACAO_CADASTRAL']\n",
    "    data_split = data.split(\"/\")\n",
    "    nova_data = f\"19{data_split[2]}-{data_split[1]}-{data_split[0]}\"\n",
    "    anos1000.loc[i,'data'] = nova_data\n",
    "print(anos1000)\n",
    "for i,row in anos2000.iterrows():\n",
    "    data = row['DATA_SITUACAO_CADASTRAL']\n",
    "    data_split = data.split(\"/\")\n",
    "    nova_data = f\"20{data_split[2]}-{data_split[1]}-{data_split[0]}\"\n",
    "    anos2000.loc[i,'data'] = nova_data\n",
    "print(anos2000)\n",
    "new_df = anos1000.append(anos2000)\n",
    "new_df = new_df.drop(\"DATA_SITUACAO_CADASTRAL\",axis=1)\n",
    "print(new_df)"
   ]
  },
  {
   "cell_type": "code",
   "execution_count": 53,
   "metadata": {},
   "outputs": [],
   "source": [
    "new_df.to_csv(\"situacao_formatado.csv\",index=False)"
   ]
  }
 ]
}