{
 "metadata": {
  "language_info": {
   "codemirror_mode": {
    "name": "ipython",
    "version": 3
   },
   "file_extension": ".py",
   "mimetype": "text/x-python",
   "name": "python",
   "nbconvert_exporter": "python",
   "pygments_lexer": "ipython3",
   "version": "3.8.5"
  },
  "orig_nbformat": 4,
  "kernelspec": {
   "name": "python3",
   "display_name": "Python 3.8.5 64-bit ('base': conda)"
  },
  "interpreter": {
   "hash": "d83547533f9050dd6fe51668b0feb7653dace4d0f960859b6bdd6b3de39e452f"
  }
 },
 "nbformat": 4,
 "nbformat_minor": 2,
 "cells": [
  {
   "cell_type": "code",
   "execution_count": 84,
   "metadata": {},
   "outputs": [],
   "source": [
    "import pandas as pd\n",
    "import json"
   ]
  },
  {
   "cell_type": "code",
   "execution_count": 85,
   "metadata": {},
   "outputs": [],
   "source": [
    "#Dados de população obtidos do IBGE para o ano de 2020\n",
    "#Fonte dos dados: https://www.ibge.gov.br/estatisticas/sociais/populacao/9103-estimativas-de-populacao.html?=&t=resultados\n",
    "populacao = pd.read_excel(\"estimativa_dou_2020.xls\",sheet_name='Municípios',header=1)"
   ]
  },
  {
   "cell_type": "code",
   "execution_count": 86,
   "metadata": {},
   "outputs": [],
   "source": [
    "#Pegando municípios do maranhão\n",
    "populacao = populacao[populacao['UF'] == 'MA'].reset_index(drop=True)\n",
    "populacao['NOME DO MUNICÍPIO'] = populacao['NOME DO MUNICÍPIO'].str.upper()"
   ]
  },
  {
   "cell_type": "code",
   "execution_count": 87,
   "metadata": {},
   "outputs": [
    {
     "output_type": "execute_result",
     "data": {
      "text/plain": [
       "     UF  COD. UF  COD. MUNIC        NOME DO MUNICÍPIO POPULAÇÃO ESTIMADA\n",
       "0    MA     21.0        55.0               AÇAILÂNDIA             113121\n",
       "1    MA     21.0       105.0             AFONSO CUNHA               6578\n",
       "2    MA     21.0       154.0    ÁGUA DOCE DO MARANHÃO              12652\n",
       "3    MA     21.0       204.0                ALCÂNTARA              22112\n",
       "4    MA     21.0       303.0            ALDEIAS ALTAS              26757\n",
       "..   ..      ...         ...                      ...                ...\n",
       "212  MA     21.0     12803.0                    VIANA              52649\n",
       "213  MA     21.0     12852.0  VILA NOVA DOS MARTÍRIOS              13598\n",
       "214  MA     21.0     12902.0        VITÓRIA DO MEARIM              32861\n",
       "215  MA     21.0     13009.0          VITORINO FREIRE              31522\n",
       "216  MA     21.0     14007.0                  ZÉ DOCA              51956\n",
       "\n",
       "[217 rows x 5 columns]"
      ],
      "text/html": "<div>\n<style scoped>\n    .dataframe tbody tr th:only-of-type {\n        vertical-align: middle;\n    }\n\n    .dataframe tbody tr th {\n        vertical-align: top;\n    }\n\n    .dataframe thead th {\n        text-align: right;\n    }\n</style>\n<table border=\"1\" class=\"dataframe\">\n  <thead>\n    <tr style=\"text-align: right;\">\n      <th></th>\n      <th>UF</th>\n      <th>COD. UF</th>\n      <th>COD. MUNIC</th>\n      <th>NOME DO MUNICÍPIO</th>\n      <th>POPULAÇÃO ESTIMADA</th>\n    </tr>\n  </thead>\n  <tbody>\n    <tr>\n      <th>0</th>\n      <td>MA</td>\n      <td>21.0</td>\n      <td>55.0</td>\n      <td>AÇAILÂNDIA</td>\n      <td>113121</td>\n    </tr>\n    <tr>\n      <th>1</th>\n      <td>MA</td>\n      <td>21.0</td>\n      <td>105.0</td>\n      <td>AFONSO CUNHA</td>\n      <td>6578</td>\n    </tr>\n    <tr>\n      <th>2</th>\n      <td>MA</td>\n      <td>21.0</td>\n      <td>154.0</td>\n      <td>ÁGUA DOCE DO MARANHÃO</td>\n      <td>12652</td>\n    </tr>\n    <tr>\n      <th>3</th>\n      <td>MA</td>\n      <td>21.0</td>\n      <td>204.0</td>\n      <td>ALCÂNTARA</td>\n      <td>22112</td>\n    </tr>\n    <tr>\n      <th>4</th>\n      <td>MA</td>\n      <td>21.0</td>\n      <td>303.0</td>\n      <td>ALDEIAS ALTAS</td>\n      <td>26757</td>\n    </tr>\n    <tr>\n      <th>...</th>\n      <td>...</td>\n      <td>...</td>\n      <td>...</td>\n      <td>...</td>\n      <td>...</td>\n    </tr>\n    <tr>\n      <th>212</th>\n      <td>MA</td>\n      <td>21.0</td>\n      <td>12803.0</td>\n      <td>VIANA</td>\n      <td>52649</td>\n    </tr>\n    <tr>\n      <th>213</th>\n      <td>MA</td>\n      <td>21.0</td>\n      <td>12852.0</td>\n      <td>VILA NOVA DOS MARTÍRIOS</td>\n      <td>13598</td>\n    </tr>\n    <tr>\n      <th>214</th>\n      <td>MA</td>\n      <td>21.0</td>\n      <td>12902.0</td>\n      <td>VITÓRIA DO MEARIM</td>\n      <td>32861</td>\n    </tr>\n    <tr>\n      <th>215</th>\n      <td>MA</td>\n      <td>21.0</td>\n      <td>13009.0</td>\n      <td>VITORINO FREIRE</td>\n      <td>31522</td>\n    </tr>\n    <tr>\n      <th>216</th>\n      <td>MA</td>\n      <td>21.0</td>\n      <td>14007.0</td>\n      <td>ZÉ DOCA</td>\n      <td>51956</td>\n    </tr>\n  </tbody>\n</table>\n<p>217 rows × 5 columns</p>\n</div>"
     },
     "metadata": {},
     "execution_count": 87
    }
   ],
   "source": [
    "populacao"
   ]
  },
  {
   "cell_type": "code",
   "execution_count": 88,
   "metadata": {},
   "outputs": [],
   "source": [
    "arquivo = open(\"maranhao.json\",\"r\", encoding='utf-8')\n",
    "geometria = json.load(arquivo)"
   ]
  },
  {
   "cell_type": "code",
   "execution_count": 89,
   "metadata": {},
   "outputs": [
    {
     "output_type": "stream",
     "name": "stdout",
     "text": [
      "217\n"
     ]
    }
   ],
   "source": [
    "c = 0\n",
    "cidades_conhecidas = populacao['NOME DO MUNICÍPIO'].unique()\n",
    "for feature in geometria[\"features\"]:\n",
    "    municipio = feature[\"properties\"]\n",
    "    nome  = municipio['name'].upper()\n",
    "    if nome in cidades_conhecidas:\n",
    "        municipio['populacao'] = populacao[populacao['NOME DO MUNICÍPIO']==nome]['POPULAÇÃO ESTIMADA'].item()\n",
    "        c+=1\n",
    "print(c)"
   ]
  },
  {
   "cell_type": "code",
   "execution_count": 90,
   "metadata": {},
   "outputs": [],
   "source": [
    "with open(\"maranhao_pop.json\",\"w\", encoding='utf-8') as novo_arquivo:\n",
    "    json.dump(geometria,novo_arquivo,ensure_ascii=False)"
   ]
  }
 ]
}